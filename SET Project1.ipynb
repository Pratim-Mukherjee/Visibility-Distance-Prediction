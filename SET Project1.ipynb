{
 "cells": [
  {
   "cell_type": "markdown",
   "id": "ccc8f27c-eff5-4e3c-a0ce-c5039da47193",
   "metadata": {},
   "source": [
    "### Data Retrive"
   ]
  },
  {
   "cell_type": "code",
   "execution_count": null,
   "id": "5ceba649-7a17-4d3b-978f-567ba0397e38",
   "metadata": {},
   "outputs": [],
   "source": [
    "from datetime import datetime\n",
    "from meteostat import Daily, Point\n",
    "\n",
    "# # Set time period\n",
    "start = datetime(1960, 1, 1)\n",
    "end = datetime(2023, 10, 16)\n",
    "\n",
    "# Create Point for city\n",
    "new_york = Point(40.7119, -73.9939, 40.7012)\n",
    "\n",
    "# #Get daily data\n",
    "data = Daily(new_york, start, end)\n",
    "data = data.fetch()\n",
    "print(data)\n",
    "\n",
    "# save data to csv file for further analysis\n",
    "data.to_csv('newyork_historical_weather_data.csv')"
   ]
  },
  {
   "cell_type": "markdown",
   "id": "4a248a8b-ab9f-4e3a-b0be-4ec791bd3a1a",
   "metadata": {},
   "source": [
    "## Data Preprocessing and data cleaning"
   ]
  },
  {
   "cell_type": "code",
   "execution_count": null,
   "id": "efb649b8-8d0b-4032-9249-e18930dc330e",
   "metadata": {},
   "outputs": [],
   "source": [
    "import numpy as np\n",
    "import pandas as pd\n",
    "import warnings\n",
    "warnings.filterwarnings('ignore')\n",
    "\n",
    "data = pd.read_csv('newyork_historical_weather_data.csv')\n",
    "\n",
    "data.describe()\n",
    "data.info()\n",
    "\n",
    "data.isnull().sum()\n",
    "data.shape\n",
    "data_copy=data.copy() #creating a copy of the original dataframe\n",
    "#removing unneccesary columns\n",
    "data = data.drop(columns=['tmin','tmax','snow','wdir','wpgt','tsun'])\n",
    "#removing if a row contains more than 2 null values\n",
    "data_cleaned = data.dropna(thresh=4)\n",
    "data_cleaned.isnull().sum()\n",
    "#treatment for every columns\n",
    "# tavg column\n",
    "data_cleaned['tavg'].interpolate(method='linear', inplace=True)\n",
    "#for wspd column\n",
    "data_cleaned['wspd'].interpolate(method='linear', inplace=True)\n",
    "#for pres column\n",
    "data_cleaned['pres'].fillna(data_cleaned['pres'].mean(), inplace=True)\n",
    "data_cleaned.isnull().sum()\n",
    "data_cleaned.to_csv('cleaned_ny_historical_weather_data.csv')\n"
   ]
  },
  {
   "cell_type": "markdown",
   "id": "2a7383e8-6cd4-4574-898e-5bfbbddb174f",
   "metadata": {},
   "source": [
    "## Data Visualization"
   ]
  },
  {
   "cell_type": "code",
   "execution_count": null,
   "id": "b3e89bf3-bbac-4a08-b40a-e856fb32cd18",
   "metadata": {},
   "outputs": [],
   "source": [
    "import pandas as pd\n",
    "import matplotlib.pyplot as plt\n",
    "import seaborn as sns\n",
    "import warnings\n",
    "warnings.filterwarnings('ignore')\n",
    "%matplotlib qt5\n",
    "data=pd.read_csv(\"cleaned_ny_historical_weather_data.csv\")\n",
    "print(data.describe())\n",
    "print(data.isnull().sum())\n",
    "#automated data viz\n",
    "import dtale\n",
    "dtale.show(data).open_browser()\n",
    "#heatmap\n",
    "numeric_cols = ['tavg', 'prcp', 'wspd', 'pres', 'Visibility']\n",
    "correlation_matrix = data[numeric_cols].corr()\n",
    "plt.figure(figsize=(10, 8))\n",
    "sns.heatmap(correlation_matrix, annot=True, cmap=\"coolwarm\", linewidths=0.5)\n",
    "plt.title(\"Correlation Heatmap\")\n",
    "plt.show()"
   ]
  },
  {
   "cell_type": "markdown",
   "id": "5ecfc3e6-b35d-4d8a-8f8d-f780cf579f84",
   "metadata": {},
   "source": [
    "## Machine Learning"
   ]
  },
  {
   "cell_type": "code",
   "execution_count": null,
   "id": "713925e9-08e0-46ee-846f-d8b96ff6104e",
   "metadata": {},
   "outputs": [],
   "source": [
    "import pandas as pd\n",
    "import numpy as np\n",
    "from sklearn.preprocessing import StandardScaler\n",
    "from sklearn.model_selection import train_test_split\n",
    "from sklearn.metrics import mean_squared_error, r2_score\n",
    "\n",
    "data=pd.read_csv(\"cleaned_ny_historical_weather_data.csv\")\n",
    "\n",
    "data = data.drop(['Unnamed: 0','time'], axis=1)\n",
    "\n",
    "def preprocess_inputs(df):\n",
    "\n",
    "    # Split df into X and y\n",
    "    y = df['Visibility'].copy()\n",
    "    X = df.drop('Visibility', axis=1).copy()\n",
    "\n",
    "    # Train-test split\n",
    "    X_train, X_test, y_train, y_test = train_test_split(X, y, train_size=0.7, random_state=123)\n",
    "\n",
    "    # Scale X with a standard scaler\n",
    "    scaler = StandardScaler()\n",
    "    scaler.fit(X_train)\n",
    "\n",
    "    X_train = pd.DataFrame(scaler.transform(X_train), columns=X_train.columns)\n",
    "    X_test = pd.DataFrame(scaler.transform(X_test), columns=X_test.columns)\n",
    "\n",
    "    return X_train, X_test, y_train, y_test\n",
    "\n",
    "X_train, X_test, y_train, y_test = preprocess_inputs(data)\n",
    "\n",
    "y_test_actual = y_test\n",
    "\n",
    "from sklearn.linear_model import LinearRegression\n",
    "from sklearn.ensemble import RandomForestRegressor\n",
    "from sklearn.tree import DecisionTreeRegressor\n",
    "from sklearn.svm import SVR\n",
    "\n",
    "from sklearn import metrics\n",
    "\n",
    "linear_reg = LinearRegression()\n",
    "linear_reg.fit(X_train, y_train)\n",
    "\n",
    "dec_tree_reg = DecisionTreeRegressor()\n",
    "dec_tree_reg.fit(X_train, y_train)\n",
    "\n",
    "randomforest_reg = RandomForestRegressor(n_estimators=100, random_state=42)\n",
    "randomforest_reg.fit(X_train, y_train)\n",
    "\n",
    "supp_vec_reg = SVR(kernel='linear')\n",
    "supp_vec_reg.fit(X_train, y_train)\n",
    "\n",
    "def model_evaluation(model, model_name):\n",
    "    y_pred = model.predict(X_test)\n",
    "\n",
    "    MAE = metrics.mean_absolute_error(y_test, y_pred)\n",
    "    MSE = metrics.mean_squared_error(y_test, y_pred)\n",
    "    RMSE = np.sqrt(MSE)\n",
    "    R2_Score = metrics.r2_score(y_test, y_pred)\n",
    "\n",
    "    return pd.DataFrame([MAE, MSE, RMSE, R2_Score], index=['MAE', 'MSE', 'RMSE' ,'R2-Score'], columns=[model_name])\n",
    "\n",
    "print(model_evaluation(linear_reg,'Linear Reg.'))\n",
    "print('\\n',model_evaluation(dec_tree_reg,'Decision Tree Reg.'))\n",
    "print('\\n',model_evaluation(randomforest_reg,'Random Forest Reg.'))\n",
    "print('\\n',model_evaluation(supp_vec_reg,'SVR'))"
   ]
  },
  {
   "cell_type": "code",
   "execution_count": null,
   "id": "a275ef79-50b9-4260-940f-9da15430c8c0",
   "metadata": {},
   "outputs": [],
   "source": [
    "def result_comp(x,o=\"Regression Model\"):\n",
    "    y_test_pred = x.predict(X_test)\n",
    "    print(o)\n",
    "    df_comp = pd.DataFrame({'Actual':y_test_actual, 'Predicted':y_test_pred})\n",
    "    print(\"\\n\",df_comp,\"\\n\")\n",
    "result_comp(linear_reg,\"Linear Reg.\")\n",
    "result_comp(dec_tree_reg,\"Decision Tree Reg.\")\n",
    "result_comp(randomforest_reg,\"Random Forest Reg.\")\n",
    "result_comp(supp_vec_reg,\"Support Vector Reg.\")"
   ]
  }
 ],
 "metadata": {
  "kernelspec": {
   "display_name": "Python 3 (ipykernel)",
   "language": "python",
   "name": "python3"
  },
  "language_info": {
   "codemirror_mode": {
    "name": "ipython",
    "version": 3
   },
   "file_extension": ".py",
   "mimetype": "text/x-python",
   "name": "python",
   "nbconvert_exporter": "python",
   "pygments_lexer": "ipython3",
   "version": "3.8.13"
  }
 },
 "nbformat": 4,
 "nbformat_minor": 5
}
